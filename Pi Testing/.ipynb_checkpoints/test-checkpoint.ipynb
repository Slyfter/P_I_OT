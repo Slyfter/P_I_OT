{
 "cells": [
  {
   "cell_type": "markdown",
   "id": "db0ffbc3",
   "metadata": {},
   "source": [
    "# Get calibrated temperature"
   ]
  },
  {
   "cell_type": "code",
   "execution_count": 6,
   "id": "11dbd88c",
   "metadata": {},
   "outputs": [
    {
     "name": "stdout",
     "output_type": "stream",
     "text": [
      "Raw Temperature from pressure sensor: 35.92 C\n",
      "CPU Temperature: 56.97 C\n",
      "Calibrated Temperature from pressure sensor: 21.89 C\n"
     ]
    }
   ],
   "source": [
    "import os\n",
    "from sense_hat import SenseHat\n",
    " \n",
    "sense = SenseHat()\n",
    " \n",
    "def get_cpu_temp():\n",
    "    \"\"\"Extracts the CPU temperature.\"\"\"\n",
    "    with open(\"/sys/class/thermal/thermal_zone0/temp\") as f:\n",
    "        cpu_temp = float(f.read()) / 1000\n",
    "    return cpu_temp\n",
    " \n",
    "def get_calibrated_temp(sense_temp, cpu_temp):\n",
    "    \"\"\"Calibrates the temperature from the Sense HAT sensor by subtracting the CPU temperature influence.\"\"\"\n",
    "    # The factor '0.5' and offset '5' are hypothetical values; you should determine appropriate values through calibration.\n",
    "    return sense_temp - ((cpu_temp - sense_temp) / 1.5)\n",
    " \n",
    "# Get temperatures pressure\n",
    "temp_from_pressure = sense.get_temperature_from_pressure()\n",
    "\n",
    " \n",
    "# Get CPU temperature\n",
    "cpu_temp = get_cpu_temp()\n",
    " \n",
    "# Calibrate temperature\n",
    "calibrated_temp_from_pressure = get_calibrated_temp(temp_from_pressure, cpu_temp)\n",
    " \n",
    "# Print temperatures\n",
    "print(\"Raw Temperature from pressure sensor: {:.2f} C\".format(temp_from_pressure))\n",
    "print(\"CPU Temperature: {:.2f} C\".format(cpu_temp))\n",
    "print(\"Calibrated Temperature from pressure sensor: {:.2f} C\".format(calibrated_temp_from_pressure))"
   ]
  }
 ],
 "metadata": {
  "kernelspec": {
   "display_name": "Python 3 (ipykernel)",
   "language": "python",
   "name": "python3"
  },
  "language_info": {
   "codemirror_mode": {
    "name": "ipython",
    "version": 3
   },
   "file_extension": ".py",
   "mimetype": "text/x-python",
   "name": "python",
   "nbconvert_exporter": "python",
   "pygments_lexer": "ipython3",
   "version": "3.11.2"
  }
 },
 "nbformat": 4,
 "nbformat_minor": 5
}
